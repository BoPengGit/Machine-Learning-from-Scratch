{
 "cells": [
  {
   "cell_type": "code",
   "execution_count": 1,
   "metadata": {},
   "outputs": [],
   "source": [
    "import matplotlib.pyplot as plt\n",
    "import numpy as np\n",
    "import sys\n",
    "sys.path.append('..')\n",
    "% matplotlib inline\n",
    "from mlscratch.loss_functions import binary_cross_entropy\n",
    "from mlscratch.activation import *\n",
    "from mlscratch.nn_layers import *\n",
    "from mlscratch.optimization import *"
   ]
  },
  {
   "cell_type": "code",
   "execution_count": 14,
   "metadata": {},
   "outputs": [],
   "source": [
    "class NeuralNetwork(object):\n",
    "    \n",
    "    def __init__(self):\n",
    "        self.architecture = []\n",
    "        self.weights = []\n",
    "        self.local_gradients = []\n",
    "        self.partial_loss_gradients = []\n",
    "        self.loss_function = None\n",
    "        self.optimizer = None\n",
    "        \n",
    "    def add(self, layer):\n",
    "        self.architecture.append(layer)\n",
    "        \n",
    "    def compile(self):\n",
    "        for i in range(1, len(self.architecture)):\n",
    "            self.weights.append(self._weight_initialization(self.architecture[i-1].size+1, \n",
    "                                                            self.architecture[i].size))\n",
    "\n",
    "    def validate(self, x_data, y):\n",
    "        pass\n",
    "\n",
    "    def predict(self, x_data):\n",
    "        return self._forward_pass(x_data)\n",
    "\n",
    "    def train(self, x_data, y, batch_size):\n",
    "        pass\n",
    "\n",
    "    def _forward_pass(self, x_data):\n",
    "        y_predict = []\n",
    "        for x in x_data:\n",
    "            input_values = x\n",
    "            for index, weights_layer in enumerate(self.weights):\n",
    "                input_values = np.append(input_values, 1)\n",
    "                print(input_values, weights_layer)\n",
    "\n",
    "                input_values = self.architecture[index+1].activation.evaluate((np.dot(input_values,\n",
    "                                                                                      weights_layer.transpose())))\n",
    "            y_predict_x = input_values\n",
    "            y_predict.append(y_predict_x)\n",
    "        return y_predict\n",
    "    \n",
    "    def _backward_pass(self):\n",
    "        pass\n",
    "\n",
    "    def _weight_initialization(self, size_l_minus1, size_l):\n",
    "        weight_matrix = (np.random.randn(size_l, size_l_minus1) * np.sqrt(2/size_l_minus1)) * 0.01 + 0.05\n",
    "        return weight_matrix"
   ]
  },
  {
   "cell_type": "code",
   "execution_count": 26,
   "metadata": {},
   "outputs": [],
   "source": [
    "x = [np.array(np.arange(10))]\n",
    "delta = np.random.uniform(0,10, size=(10,))\n",
    "y = (.4 * x[0] +1 + delta)\n",
    "\n",
    "neural_network = NeuralNetwork()\n",
    "neural_network.add(layer=InputLayer(size=len(x[0])))\n",
    "neural_network.add(layer=FullyConnected(size=10, activation=relu))\n",
    "neural_network.add(layer=FullyConnected(size=10, activation=relu))\n",
    "neural_network.add(layer=FullyConnected(size=1, activation=sigmoid))\n",
    "neural_network.loss_function = binary_cross_entropy\n",
    "neural_network.optimizer = adam"
   ]
  },
  {
   "cell_type": "code",
   "execution_count": 27,
   "metadata": {},
   "outputs": [],
   "source": [
    "neural_network.compile()\n",
    "neural_network.train(x, y, batch_size=20)"
   ]
  },
  {
   "cell_type": "code",
   "execution_count": 28,
   "metadata": {},
   "outputs": [
    {
     "name": "stdout",
     "output_type": "stream",
     "text": [
      "[0 1 2 3 4 5 6 7 8 9 1] [[0.05312491 0.04133188 0.05309461 0.03769158 0.05496523 0.04789703\n",
      "  0.04299309 0.05310619 0.05832313 0.04303049 0.05296539]\n",
      " [0.05463203 0.04522345 0.05098679 0.04574642 0.0533565  0.04580485\n",
      "  0.05630629 0.05121277 0.05029447 0.05246248 0.04776356]\n",
      " [0.04779321 0.04884503 0.04521009 0.04652252 0.05731025 0.04953916\n",
      "  0.05477231 0.05586337 0.0526573  0.05262    0.04927371]\n",
      " [0.04564751 0.04667138 0.05305543 0.04745956 0.04773721 0.04470479\n",
      "  0.04409645 0.05145657 0.05222296 0.048007   0.05513265]\n",
      " [0.04817108 0.0526987  0.04937664 0.04506919 0.04792087 0.04460324\n",
      "  0.04516931 0.05306575 0.05431135 0.05260365 0.04764052]\n",
      " [0.04739273 0.04769095 0.05583704 0.04495158 0.054874   0.03986852\n",
      "  0.04615876 0.05524474 0.04208018 0.04959411 0.05070089]\n",
      " [0.04430706 0.05033446 0.05010849 0.05049603 0.04972194 0.05155095\n",
      "  0.04957831 0.04581671 0.04962923 0.05026306 0.04637034]\n",
      " [0.05309305 0.05783618 0.03859773 0.05839122 0.05510708 0.05186932\n",
      "  0.05136433 0.05625619 0.04596313 0.04473686 0.05913422]\n",
      " [0.04861498 0.05273353 0.04779147 0.04822664 0.04540248 0.04160994\n",
      "  0.04612294 0.054607   0.05202961 0.04678252 0.03917665]\n",
      " [0.048477   0.05199185 0.0589815  0.04969445 0.05021462 0.0510805\n",
      "  0.05525009 0.05673091 0.04869702 0.05264821 0.05230979]]\n",
      "[2.25646861 2.34549531 2.41955916 2.23938768 2.29939957 2.21041347\n",
      " 2.27264066 2.32143055 2.21809881 2.41963604 1.        ] [[0.0537267  0.04796367 0.05731055 0.05122544 0.0454099  0.05168303\n",
      "  0.05174442 0.04850741 0.05374559 0.0480336  0.05031247]\n",
      " [0.04956862 0.04875825 0.04623333 0.05606006 0.05663908 0.04987249\n",
      "  0.0437659  0.0535639  0.06325528 0.05283663 0.048101  ]\n",
      " [0.05456264 0.04970136 0.04644214 0.04246571 0.04258889 0.05295628\n",
      "  0.05278257 0.04482718 0.04136166 0.05612659 0.05561426]\n",
      " [0.04679695 0.06207093 0.05025506 0.04190319 0.05018916 0.05023296\n",
      "  0.04650571 0.04698396 0.05334372 0.05002604 0.051791  ]\n",
      " [0.05233176 0.04346149 0.058049   0.05471407 0.04622551 0.05103852\n",
      "  0.05166637 0.04927152 0.04264198 0.05537382 0.04489134]\n",
      " [0.04734202 0.05015861 0.04373194 0.04585014 0.04278686 0.04996113\n",
      "  0.04935232 0.05084456 0.05984502 0.05307182 0.05499225]\n",
      " [0.04789047 0.04492495 0.04616833 0.05211    0.04861298 0.04950295\n",
      "  0.04967185 0.04857032 0.05336736 0.04573854 0.05250831]\n",
      " [0.04762444 0.04632767 0.0574313  0.04984012 0.04868004 0.0414496\n",
      "  0.05084694 0.04961393 0.04604052 0.04419531 0.04649699]\n",
      " [0.04621058 0.05864856 0.05151147 0.05150383 0.04829845 0.05126106\n",
      "  0.04990131 0.04682667 0.05014005 0.04685089 0.04755883]\n",
      " [0.04956423 0.05974136 0.0484524  0.04532369 0.05445142 0.05183066\n",
      "  0.05199695 0.05240732 0.05463615 0.0574358  0.05114487]]\n",
      "[1.22171982 1.2441534  1.16932749 1.19897427 1.20736929 1.18812077\n",
      " 1.17023066 1.15653787 1.20041943 1.26160408 1.        ] [[0.0465357  0.05560197 0.05808648 0.05012858 0.04767381 0.04800742\n",
      "  0.05121877 0.0490766  0.05216239 0.0574318  0.04902342]]\n"
     ]
    },
    {
     "data": {
      "text/plain": [
       "[array([0.66137945])]"
      ]
     },
     "execution_count": 28,
     "metadata": {},
     "output_type": "execute_result"
    }
   ],
   "source": [
    "neural_network.predict(x)"
   ]
  },
  {
   "cell_type": "code",
   "execution_count": 121,
   "metadata": {
    "scrolled": false
   },
   "outputs": [
    {
     "data": {
      "text/plain": [
       "[array([[0.30359624, 0.23326866, 0.20595053, 0.42478214, 0.2624201 ,\n",
       "         0.19395453, 0.24635696, 0.38714525, 0.34207151, 0.28743048,\n",
       "         0.34650639],\n",
       "        [0.25369138, 0.27175983, 0.36591322, 0.32248877, 0.29440293,\n",
       "         0.20766246, 0.27839356, 0.32068931, 0.35934324, 0.27841872,\n",
       "         0.15276482],\n",
       "        [0.36623231, 0.30150789, 0.18360257, 0.17494747, 0.34706375,\n",
       "         0.29288232, 0.29457412, 0.24553086, 0.45420061, 0.32203526,\n",
       "         0.26517114],\n",
       "        [0.18946825, 0.31860983, 0.46892209, 0.38653769, 0.11024775,\n",
       "         0.27199624, 0.38560207, 0.37342898, 0.050199  , 0.39565155,\n",
       "         0.16647138],\n",
       "        [0.01096849, 0.38843256, 0.26417712, 0.27678737, 0.27640868,\n",
       "         0.09438457, 0.153527  , 0.45220003, 0.28717992, 0.42846974,\n",
       "         0.24279079],\n",
       "        [0.21155108, 0.08212992, 0.48579808, 0.29283585, 0.30225943,\n",
       "         0.06094235, 0.11897621, 0.44397833, 0.26119207, 0.38222997,\n",
       "         0.18683648],\n",
       "        [0.32501499, 0.27888914, 0.13459493, 0.33194373, 0.44597728,\n",
       "         0.39155   , 0.24653472, 0.3835526 , 0.29441191, 0.43893337,\n",
       "         0.27359543],\n",
       "        [0.33901294, 0.31563856, 0.38721761, 0.28700231, 0.26428736,\n",
       "         0.28659252, 0.36350564, 0.12777053, 0.22835105, 0.3868276 ,\n",
       "         0.5289655 ],\n",
       "        [0.37388659, 0.17473949, 0.27797255, 0.31926637, 0.4802292 ,\n",
       "         0.40624686, 0.57988157, 0.49896965, 0.43098929, 0.12939253,\n",
       "         0.11764662],\n",
       "        [0.22593655, 0.44603503, 0.34941435, 0.02019947, 0.11139819,\n",
       "         0.42182542, 0.3519334 , 0.41097772, 0.50201881, 0.10937684,\n",
       "         0.34746423]]),\n",
       " array([[ 0.44400937,  0.37282648,  0.23144545,  0.28720066,  0.46579526,\n",
       "          0.19617904,  0.27462407,  0.49540754,  0.24809637,  0.28380134,\n",
       "          0.20393759],\n",
       "        [ 0.353704  ,  0.15640724,  0.30383472,  0.39174804,  0.3001127 ,\n",
       "          0.12009742,  0.4037858 ,  0.15190192,  0.51604344,  0.24056975,\n",
       "          0.24100305],\n",
       "        [ 0.14508342,  0.48126652,  0.31448753,  0.38252984,  0.59800123,\n",
       "          0.43705494,  0.18361411,  0.3095361 ,  0.33207212,  0.38283972,\n",
       "          0.33701213],\n",
       "        [ 0.22987897,  0.17446116,  0.41404086,  0.23711637,  0.315466  ,\n",
       "          0.37335455,  0.35215333,  0.19514115,  0.29976565,  0.36281642,\n",
       "          0.17689842],\n",
       "        [ 0.39169429,  0.24790133,  0.14554127,  0.12697041,  0.65003524,\n",
       "          0.2756829 ,  0.1164089 ,  0.05593097,  0.19946277,  0.21936323,\n",
       "          0.35571223],\n",
       "        [ 0.01874775,  0.50229994,  0.2623098 ,  0.50148725,  0.56526794,\n",
       "          0.40011454,  0.06639721,  0.30428211,  0.04349556,  0.43824067,\n",
       "          0.49078267],\n",
       "        [ 0.5335852 ,  0.1224451 ,  0.23757557,  0.37542011,  0.25583568,\n",
       "          0.05779999,  0.14685328,  0.31725068,  0.06554109,  0.36248737,\n",
       "          0.25867226],\n",
       "        [ 0.27488227,  0.32177226,  0.45412277,  0.28761575,  0.17421809,\n",
       "          0.42099109,  0.45638412,  0.22727211,  0.19338018,  0.32746914,\n",
       "          0.30621922],\n",
       "        [ 0.33099897,  0.33111139,  0.28130248,  0.24061603,  0.47789749,\n",
       "          0.3927002 ,  0.38397282,  0.11800388,  0.09532121,  0.25227828,\n",
       "          0.33747   ],\n",
       "        [ 0.13606592, -0.13745601,  0.37579149,  0.28870925,  0.62190108,\n",
       "          0.34875619,  0.29063426,  0.42722714,  0.28134268,  0.37201101,\n",
       "          0.15978959]]),\n",
       " array([[0.34297652, 0.07656791, 0.42659527, 0.39483821, 0.15478413,\n",
       "         0.25099372, 0.24837656, 0.32466191, 0.44051613, 0.35250418,\n",
       "         0.35706939]])]"
      ]
     },
     "execution_count": 121,
     "metadata": {},
     "output_type": "execute_result"
    }
   ],
   "source": [
    "neural_network.weights"
   ]
  },
  {
   "cell_type": "code",
   "execution_count": null,
   "metadata": {},
   "outputs": [],
   "source": []
  },
  {
   "cell_type": "code",
   "execution_count": null,
   "metadata": {},
   "outputs": [],
   "source": []
  },
  {
   "cell_type": "code",
   "execution_count": null,
   "metadata": {},
   "outputs": [],
   "source": []
  },
  {
   "cell_type": "code",
   "execution_count": null,
   "metadata": {},
   "outputs": [],
   "source": []
  },
  {
   "cell_type": "code",
   "execution_count": null,
   "metadata": {},
   "outputs": [],
   "source": []
  },
  {
   "cell_type": "code",
   "execution_count": null,
   "metadata": {},
   "outputs": [],
   "source": []
  },
  {
   "cell_type": "code",
   "execution_count": null,
   "metadata": {},
   "outputs": [],
   "source": []
  },
  {
   "cell_type": "code",
   "execution_count": null,
   "metadata": {},
   "outputs": [],
   "source": []
  },
  {
   "cell_type": "code",
   "execution_count": null,
   "metadata": {},
   "outputs": [],
   "source": []
  },
  {
   "cell_type": "code",
   "execution_count": null,
   "metadata": {},
   "outputs": [],
   "source": []
  },
  {
   "cell_type": "code",
   "execution_count": null,
   "metadata": {},
   "outputs": [],
   "source": []
  },
  {
   "cell_type": "code",
   "execution_count": null,
   "metadata": {},
   "outputs": [],
   "source": []
  },
  {
   "cell_type": "code",
   "execution_count": null,
   "metadata": {},
   "outputs": [],
   "source": []
  }
 ],
 "metadata": {
  "kernelspec": {
   "display_name": "Python 3",
   "language": "python",
   "name": "python3"
  },
  "language_info": {
   "codemirror_mode": {
    "name": "ipython",
    "version": 3
   },
   "file_extension": ".py",
   "mimetype": "text/x-python",
   "name": "python",
   "nbconvert_exporter": "python",
   "pygments_lexer": "ipython3",
   "version": "3.6.5"
  }
 },
 "nbformat": 4,
 "nbformat_minor": 2
}
