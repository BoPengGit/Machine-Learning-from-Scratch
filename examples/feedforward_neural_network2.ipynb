{
 "cells": [
  {
   "cell_type": "code",
   "execution_count": 35,
   "metadata": {},
   "outputs": [],
   "source": [
    "import matplotlib.pyplot as plt\n",
    "import numpy as np\n",
    "import sys\n",
    "sys.path.append('..')\n",
    "% matplotlib inline\n",
    "from mlscratch.loss_functions import binary_cross_entropy\n",
    "from mlscratch.activation import *\n",
    "from mlscratch.nn_layers import *\n",
    "from mlscratch.optimization import *"
   ]
  },
  {
   "cell_type": "code",
   "execution_count": 37,
   "metadata": {},
   "outputs": [],
   "source": [
    "class NeuralNetwork(object):\n",
    "    \n",
    "    def __init__(self):\n",
    "        self.architecture = []\n",
    "        self.weights = []\n",
    "        self.local_gradients = []\n",
    "        self.partial_loss_gradients = []\n",
    "        self.loss_function = None\n",
    "        self.optimizer = None\n",
    "        \n",
    "    def add(self, layer):\n",
    "        self.architecture.append(layer)\n",
    "        \n",
    "    def compile(self):\n",
    "        for i in range(1, len(self.architecture)):\n",
    "            self.weights.append(self._weight_initialization(self.architecture[i-1].size+1, \n",
    "                                                            self.architecture[i].size))\n",
    "\n",
    "    def validate(self, x_data, y):\n",
    "        pass\n",
    "\n",
    "    def predict(self, x_data):\n",
    "        return self._forward_pass(x_data)\n",
    "\n",
    "    def train(self, x_data, y, batch_size):\n",
    "        pass\n",
    "\n",
    "    def _forward_pass(self, x_data):\n",
    "        y_predict = []\n",
    "        for x in x_data:\n",
    "            input_values = x\n",
    "            for index, weights_layer in enumerate(self.weights):\n",
    "                input_values = np.append(input_values, 1)\n",
    "\n",
    "                output_values = self.architecture[index+1].activation.evaluate((np.dot(input_values,\n",
    "                                                                                       weights_layer.transpose())))\n",
    "                self.local_gradients.append(self.architecture[index+1].activation.derivative(output_values, \n",
    "                                                                                             input_values))\n",
    "                input_values = output_values                \n",
    "            y_predict_x = input_values\n",
    "            y_predict.append(y_predict_x)\n",
    "            \n",
    "        return y_predict\n",
    "    \n",
    "    def _backward_pass(self):\n",
    "        \n",
    "\n",
    "    def _weight_initialization(self, size_l_minus1, size_l):\n",
    "        weight_matrix = (np.random.randn(size_l, size_l_minus1) * np.sqrt(2/size_l_minus1)) * 0.01 + 0.05\n",
    "        return weight_matrix"
   ]
  },
  {
   "cell_type": "code",
   "execution_count": 38,
   "metadata": {},
   "outputs": [],
   "source": [
    "x = [np.array(np.arange(10))]\n",
    "delta = np.random.uniform(0,10, size=(10,))\n",
    "y = (.4 * x[0] +1 + delta)\n",
    "\n",
    "neural_network = NeuralNetwork()\n",
    "neural_network.add(layer=InputLayer(size=len(x[0])))\n",
    "neural_network.add(layer=FullyConnected(size=10, activation=relu))\n",
    "neural_network.add(layer=FullyConnected(size=10, activation=relu))\n",
    "neural_network.add(layer=FullyConnected(size=1, activation=sigmoid))\n",
    "neural_network.loss_function = binary_cross_entropy\n",
    "neural_network.optimizer = adam"
   ]
  },
  {
   "cell_type": "code",
   "execution_count": 39,
   "metadata": {},
   "outputs": [],
   "source": [
    "neural_network.compile()\n",
    "neural_network.train(x, y, batch_size=20)"
   ]
  },
  {
   "cell_type": "code",
   "execution_count": 40,
   "metadata": {},
   "outputs": [
    {
     "data": {
      "text/plain": [
       "[array([0.65099544])]"
      ]
     },
     "execution_count": 40,
     "metadata": {},
     "output_type": "execute_result"
    }
   ],
   "source": [
    "neural_network.predict(x)"
   ]
  },
  {
   "cell_type": "code",
   "execution_count": 41,
   "metadata": {
    "scrolled": false
   },
   "outputs": [
    {
     "data": {
      "text/plain": [
       "[array([[0.05157905, 0.0505484 , 0.05432891, 0.04330126, 0.04402589,\n",
       "         0.05152245, 0.04682481, 0.05145988, 0.04876875, 0.04658492,\n",
       "         0.05239058],\n",
       "        [0.05797529, 0.05248847, 0.04911266, 0.04652869, 0.05093727,\n",
       "         0.04945436, 0.04884304, 0.04570981, 0.05810185, 0.0428911 ,\n",
       "         0.04874322],\n",
       "        [0.05567578, 0.04623119, 0.03907167, 0.04188638, 0.05617627,\n",
       "         0.04788147, 0.05003096, 0.04809742, 0.04504853, 0.05074186,\n",
       "         0.04968564],\n",
       "        [0.04592766, 0.04678493, 0.04371398, 0.0518334 , 0.04517683,\n",
       "         0.05680243, 0.04866802, 0.05570708, 0.04346358, 0.05406529,\n",
       "         0.05308571],\n",
       "        [0.04952543, 0.04975363, 0.05184492, 0.05017561, 0.05128314,\n",
       "         0.04400057, 0.04915613, 0.047035  , 0.0429206 , 0.04647476,\n",
       "         0.05105123],\n",
       "        [0.0382617 , 0.05429827, 0.04845683, 0.04902319, 0.05065785,\n",
       "         0.05401216, 0.04498084, 0.04053873, 0.0513872 , 0.05481157,\n",
       "         0.04684726],\n",
       "        [0.06070621, 0.04674171, 0.04940596, 0.05475381, 0.0523226 ,\n",
       "         0.0483925 , 0.04828267, 0.04300406, 0.05598996, 0.05051105,\n",
       "         0.05222927],\n",
       "        [0.05292432, 0.04079866, 0.04889833, 0.05025886, 0.03689343,\n",
       "         0.054533  , 0.04773059, 0.05096853, 0.04166807, 0.05372677,\n",
       "         0.04989017],\n",
       "        [0.05361886, 0.0456587 , 0.04358743, 0.04712168, 0.0470185 ,\n",
       "         0.05394334, 0.04625667, 0.05210212, 0.0545584 , 0.05794881,\n",
       "         0.04656971],\n",
       "        [0.04385488, 0.05561816, 0.0558174 , 0.05141638, 0.04270272,\n",
       "         0.05287767, 0.05357131, 0.04702729, 0.05055748, 0.05409989,\n",
       "         0.05304579]]),\n",
       " array([[0.04973098, 0.04441524, 0.05046616, 0.0539561 , 0.04863414,\n",
       "         0.04389208, 0.04739738, 0.04518373, 0.0524833 , 0.05386138,\n",
       "         0.05685988],\n",
       "        [0.04437879, 0.05240344, 0.04906194, 0.05197539, 0.04545129,\n",
       "         0.05631565, 0.04776903, 0.04934694, 0.04557805, 0.0478274 ,\n",
       "         0.04246619],\n",
       "        [0.04946935, 0.05784747, 0.04829311, 0.05290467, 0.04753319,\n",
       "         0.04726742, 0.04396044, 0.04663295, 0.04361242, 0.05013423,\n",
       "         0.04519644],\n",
       "        [0.05392193, 0.05698006, 0.04965482, 0.04940236, 0.04560664,\n",
       "         0.05466776, 0.0503899 , 0.05031239, 0.04516365, 0.05378481,\n",
       "         0.05028574],\n",
       "        [0.04659479, 0.05444546, 0.05373221, 0.04707917, 0.05195883,\n",
       "         0.04129128, 0.05428919, 0.05889163, 0.04740756, 0.04873514,\n",
       "         0.04658473],\n",
       "        [0.04144878, 0.04760202, 0.05212001, 0.03964403, 0.05277143,\n",
       "         0.05668963, 0.05069461, 0.04952934, 0.04703371, 0.04942528,\n",
       "         0.04768955],\n",
       "        [0.05231289, 0.0460918 , 0.04947498, 0.05040039, 0.05087866,\n",
       "         0.04365928, 0.04917929, 0.04796225, 0.05070745, 0.0471691 ,\n",
       "         0.04836306],\n",
       "        [0.04144187, 0.04792454, 0.04979328, 0.05110965, 0.04854745,\n",
       "         0.04738121, 0.05279288, 0.04890756, 0.04677761, 0.04894528,\n",
       "         0.04467861],\n",
       "        [0.04900539, 0.04552341, 0.05336468, 0.05585132, 0.04933433,\n",
       "         0.04551118, 0.04831651, 0.05078099, 0.04911117, 0.05606955,\n",
       "         0.04938197],\n",
       "        [0.04653078, 0.05869529, 0.0497668 , 0.0494165 , 0.05695731,\n",
       "         0.05646877, 0.05676564, 0.04099242, 0.04910698, 0.05160847,\n",
       "         0.04644631]]),\n",
       " array([[0.05121931, 0.05214488, 0.04916293, 0.04985969, 0.04506528,\n",
       "         0.0476938 , 0.05211276, 0.0502005 , 0.04452522, 0.04746638,\n",
       "         0.04882943]])]"
      ]
     },
     "execution_count": 41,
     "metadata": {},
     "output_type": "execute_result"
    }
   ],
   "source": [
    "neural_network.weights"
   ]
  },
  {
   "cell_type": "code",
   "execution_count": 42,
   "metadata": {},
   "outputs": [
    {
     "data": {
      "text/plain": [
       "[array([[0, 0, 0, 0, 0, 0, 0, 0, 0, 0],\n",
       "        [1, 1, 1, 1, 1, 1, 1, 1, 1, 1],\n",
       "        [2, 2, 2, 2, 2, 2, 2, 2, 2, 2],\n",
       "        [3, 3, 3, 3, 3, 3, 3, 3, 3, 3],\n",
       "        [4, 4, 4, 4, 4, 4, 4, 4, 4, 4],\n",
       "        [5, 5, 5, 5, 5, 5, 5, 5, 5, 5],\n",
       "        [6, 6, 6, 6, 6, 6, 6, 6, 6, 6],\n",
       "        [7, 7, 7, 7, 7, 7, 7, 7, 7, 7],\n",
       "        [8, 8, 8, 8, 8, 8, 8, 8, 8, 8],\n",
       "        [9, 9, 9, 9, 9, 9, 9, 9, 9, 9],\n",
       "        [1, 1, 1, 1, 1, 1, 1, 1, 1, 1]]),\n",
       " array([[2.22579872, 2.22579872, 2.22579872, 2.22579872, 2.22579872,\n",
       "         2.22579872, 2.22579872, 2.22579872, 2.22579872, 2.22579872],\n",
       "        [2.25392554, 2.25392554, 2.25392554, 2.25392554, 2.25392554,\n",
       "         2.25392554, 2.25392554, 2.25392554, 2.25392554, 2.25392554],\n",
       "        [2.21776443, 2.21776443, 2.21776443, 2.21776443, 2.21776443,\n",
       "         2.21776443, 2.21776443, 2.21776443, 2.21776443, 2.21776443],\n",
       "        [2.32377215, 2.32377215, 2.32377215, 2.32377215, 2.32377215,\n",
       "         2.32377215, 2.32377215, 2.32377215, 2.32377215, 2.32377215],\n",
       "        [2.16597633, 2.16597633, 2.16597633, 2.16597633, 2.16597633,\n",
       "         2.16597633, 2.16597633, 2.16597633, 2.16597633, 2.16597633],\n",
       "        [2.2758789 , 2.2758789 , 2.2758789 , 2.2758789 , 2.2758789 ,\n",
       "         2.2758789 , 2.2758789 , 2.2758789 , 2.2758789 , 2.2758789 ],\n",
       "        [2.30654081, 2.30654081, 2.30654081, 2.30654081, 2.30654081,\n",
       "         2.30654081, 2.30654081, 2.30654081, 2.30654081, 2.30654081],\n",
       "        [2.21954948, 2.21954948, 2.21954948, 2.21954948, 2.21954948,\n",
       "         2.21954948, 2.21954948, 2.21954948, 2.21954948, 2.21954948],\n",
       "        [2.37882029, 2.37882029, 2.37882029, 2.37882029, 2.37882029,\n",
       "         2.37882029, 2.37882029, 2.37882029, 2.37882029, 2.37882029],\n",
       "        [2.3517248 , 2.3517248 , 2.3517248 , 2.3517248 , 2.3517248 ,\n",
       "         2.3517248 , 2.3517248 , 2.3517248 , 2.3517248 , 2.3517248 ],\n",
       "        [1.        , 1.        , 1.        , 1.        , 1.        ,\n",
       "         1.        , 1.        , 1.        , 1.        , 1.        ]]),\n",
       " array([0.26612523, 0.26268153, 0.2619188 , 0.27461187, 0.27068934,\n",
       "        0.26201952, 0.26276585, 0.25987741, 0.27093126, 0.27707083,\n",
       "        0.22720038])]"
      ]
     },
     "execution_count": 42,
     "metadata": {},
     "output_type": "execute_result"
    }
   ],
   "source": [
    "neural_network.local_gradients"
   ]
  },
  {
   "cell_type": "code",
   "execution_count": null,
   "metadata": {},
   "outputs": [],
   "source": []
  },
  {
   "cell_type": "code",
   "execution_count": null,
   "metadata": {},
   "outputs": [],
   "source": []
  },
  {
   "cell_type": "code",
   "execution_count": null,
   "metadata": {},
   "outputs": [],
   "source": []
  },
  {
   "cell_type": "code",
   "execution_count": null,
   "metadata": {},
   "outputs": [],
   "source": []
  },
  {
   "cell_type": "code",
   "execution_count": null,
   "metadata": {},
   "outputs": [],
   "source": []
  },
  {
   "cell_type": "code",
   "execution_count": null,
   "metadata": {},
   "outputs": [],
   "source": []
  },
  {
   "cell_type": "code",
   "execution_count": null,
   "metadata": {},
   "outputs": [],
   "source": []
  },
  {
   "cell_type": "code",
   "execution_count": null,
   "metadata": {},
   "outputs": [],
   "source": []
  },
  {
   "cell_type": "code",
   "execution_count": null,
   "metadata": {},
   "outputs": [],
   "source": []
  },
  {
   "cell_type": "code",
   "execution_count": null,
   "metadata": {},
   "outputs": [],
   "source": []
  },
  {
   "cell_type": "code",
   "execution_count": null,
   "metadata": {},
   "outputs": [],
   "source": []
  },
  {
   "cell_type": "code",
   "execution_count": null,
   "metadata": {},
   "outputs": [],
   "source": []
  }
 ],
 "metadata": {
  "kernelspec": {
   "display_name": "Python 3",
   "language": "python",
   "name": "python3"
  },
  "language_info": {
   "codemirror_mode": {
    "name": "ipython",
    "version": 3
   },
   "file_extension": ".py",
   "mimetype": "text/x-python",
   "name": "python",
   "nbconvert_exporter": "python",
   "pygments_lexer": "ipython3",
   "version": "3.6.5"
  }
 },
 "nbformat": 4,
 "nbformat_minor": 2
}
