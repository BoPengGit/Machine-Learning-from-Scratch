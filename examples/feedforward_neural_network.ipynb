{
 "cells": [
  {
   "cell_type": "code",
   "execution_count": 1,
   "metadata": {},
   "outputs": [],
   "source": [
    "import matplotlib.pyplot as plt\n",
    "import numpy as np\n",
    "import sys\n",
    "sys.path.append('..')\n",
    "% matplotlib inline"
   ]
  },
  {
   "cell_type": "code",
   "execution_count": 2,
   "metadata": {},
   "outputs": [],
   "source": [
    "import numpy as np\n",
    "import sys\n",
    "sys.path.append('..')\n",
    "from mlscratch.loss_functions import binary_cross_entropy\n",
    "from mlscratch.activation import relu\n",
    "from mlscratch.nn_layers import fully_connected\n",
    "\n",
    "\n",
    "class NeuralNetwork(object):\n",
    "\n",
    "    def __init__(self):\n",
    "        self.architecture = []\n",
    "        self.weights = [] # TODO: change to np.array() blank array if possible. # sudo code\n",
    "        self.local_node_gradients = []\n",
    "        self.loss_partial_gradients = []\n",
    "        self.loss_function = None\n",
    "        self.optimizer = None\n",
    "        \n",
    "    def add(self, layer):\n",
    "        self.architecture.append(layer)\n",
    "\n",
    "    def compile(self, input_size):\n",
    "        self.architecture.insert(0, fully_connected(num_nodes=input_size, activation=None))\n",
    "        for i in range(0, len(self.architecture)-1):\n",
    "            self.weights.append(self._weight_initialization(self.architecture[i], self.architecture[i+1]))\n",
    "            \n",
    "    def train(self, x, y, batch_size):\n",
    "        pass\n",
    "\n",
    "    def validate(self, x, y):\n",
    "        pass\n",
    "\n",
    "    def predict(self, x):\n",
    "        return self._forward_pass(input_values=x)\n",
    "\n",
    "    def _forward_pass(self, input_values):\n",
    "        for index, layer_weights in enumerate(self.weights):\n",
    "            input_values = self.architecture[index+1].activation((np.dot(input_values, layer_weights.transpose())))\n",
    "            \n",
    "        output = input_values        \n",
    "        return output\n",
    "    \n",
    "    def _backward_pass(self):\n",
    "        \n",
    "    \n",
    "    def _weight_initialization(self, layer_l_minus1, layer_l):\n",
    "        num_nodes_layer_l_minus1 = layer_l_minus1.num_nodes\n",
    "        num_nodes_layer_l = layer_l.num_nodes\n",
    "        weight_matrix = np.random.randn(num_nodes_layer_l, num_nodes_layer_l_minus1) * \\\n",
    "                  np.sqrt(2/num_nodes_layer_l_minus1)\n",
    "        return weight_matrix"
   ]
  },
  {
   "cell_type": "code",
   "execution_count": 3,
   "metadata": {},
   "outputs": [],
   "source": [
    "# sudo code\n",
    "from mlscratch.nn_layers import fully_connected\n",
    "from mlscratch.optimization import adam\n",
    "from mlscratch.activation import relu, sigmoid\n",
    "from mlscratch.loss_functions import binary_cross_entropy\n",
    "\n",
    "neural_network = NeuralNetwork()\n",
    "neural_network.add(layer=fully_connected(num_nodes=10, activation=relu))\n",
    "neural_network.add(layer=fully_connected(num_nodes=10, activation=relu))\n",
    "neural_network.add(layer=fully_connected(num_nodes=1, activation=sigmoid))\n",
    "neural_network.loss_function = binary_cross_entropy\n",
    "neural_network.optimizer = adam"
   ]
  },
  {
   "cell_type": "code",
   "execution_count": 4,
   "metadata": {},
   "outputs": [],
   "source": [
    "x = np.array(np.arange(100))\n",
    "delta = np.random.uniform(0,10, size=(100,))\n",
    "y = (.4 * x +1 + delta)"
   ]
  },
  {
   "cell_type": "code",
   "execution_count": 5,
   "metadata": {
    "scrolled": false
   },
   "outputs": [
    {
     "name": "stdout",
     "output_type": "stream",
     "text": [
      "[ 0  1  2  3  4  5  6  7  8  9 10 11 12 13 14 15 16 17 18 19 20 21 22 23\n",
      " 24 25 26 27 28 29 30 31 32 33 34 35 36 37 38 39 40 41 42 43 44 45 46 47\n",
      " 48 49 50 51 52 53 54 55 56 57 58 59 60 61 62 63 64 65 66 67 68 69 70 71\n",
      " 72 73 74 75 76 77 78 79 80 81 82 83 84 85 86 87 88 89 90 91 92 93 94 95\n",
      " 96 97 98 99]\n"
     ]
    }
   ],
   "source": [
    "# sudo code\n",
    "input_size = 100\n",
    "neural_network.compile(input_size)\n",
    "neural_network.train(x, y, batch_size=20)\n",
    "print(x.transpose())"
   ]
  },
  {
   "cell_type": "code",
   "execution_count": 6,
   "metadata": {},
   "outputs": [
    {
     "name": "stdout",
     "output_type": "stream",
     "text": [
      "[-121.67607695 -113.97482976  148.51392291  -59.11574315  112.380582\n",
      "   13.50062243   14.75163126  -33.19094163   42.14531226  168.62594735] <class 'numpy.ndarray'>\n",
      "[ -13.76232269  251.84534952  -77.55015304 -141.74680399   79.70982867\n",
      "   15.10205016  -40.38416081   26.92668704 -215.0806716   -25.14283914] <class 'numpy.ndarray'>\n"
     ]
    },
    {
     "data": {
      "text/plain": [
       "array([6.39251625e-29])"
      ]
     },
     "execution_count": 6,
     "metadata": {},
     "output_type": "execute_result"
    }
   ],
   "source": [
    "neural_network.predict(x)"
   ]
  },
  {
   "cell_type": "code",
   "execution_count": 23,
   "metadata": {},
   "outputs": [
    {
     "data": {
      "text/plain": [
       "<function mlscratch.activation.relu(array)>"
      ]
     },
     "execution_count": 23,
     "metadata": {},
     "output_type": "execute_result"
    }
   ],
   "source": [
    "neural_network.architecture[2].activation"
   ]
  },
  {
   "cell_type": "code",
   "execution_count": 24,
   "metadata": {
    "scrolled": false
   },
   "outputs": [
    {
     "data": {
      "text/plain": [
       "(10, 100)"
      ]
     },
     "execution_count": 24,
     "metadata": {},
     "output_type": "execute_result"
    }
   ],
   "source": [
    "neural_network.weights[0].shape"
   ]
  },
  {
   "cell_type": "code",
   "execution_count": null,
   "metadata": {},
   "outputs": [],
   "source": []
  },
  {
   "cell_type": "code",
   "execution_count": null,
   "metadata": {},
   "outputs": [],
   "source": []
  },
  {
   "cell_type": "code",
   "execution_count": null,
   "metadata": {},
   "outputs": [],
   "source": []
  },
  {
   "cell_type": "code",
   "execution_count": null,
   "metadata": {},
   "outputs": [],
   "source": []
  }
 ],
 "metadata": {
  "kernelspec": {
   "display_name": "Python 3",
   "language": "python",
   "name": "python3"
  },
  "language_info": {
   "codemirror_mode": {
    "name": "ipython",
    "version": 3
   },
   "file_extension": ".py",
   "mimetype": "text/x-python",
   "name": "python",
   "nbconvert_exporter": "python",
   "pygments_lexer": "ipython3",
   "version": "3.6.5"
  }
 },
 "nbformat": 4,
 "nbformat_minor": 2
}
