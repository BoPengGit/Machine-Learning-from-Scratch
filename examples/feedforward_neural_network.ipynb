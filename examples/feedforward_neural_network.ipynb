{
 "cells": [
  {
   "cell_type": "code",
   "execution_count": 1,
   "metadata": {},
   "outputs": [],
   "source": [
    "import matplotlib.pyplot as plt\n",
    "import numpy as np\n",
    "import sys\n",
    "sys.path.append('..')\n",
    "% matplotlib inline"
   ]
  },
  {
   "cell_type": "code",
   "execution_count": 2,
   "metadata": {},
   "outputs": [],
   "source": [
    "import numpy as np\n",
    "import sys\n",
    "sys.path.append('..')\n",
    "from mlscratch.loss_functions import binary_cross_entropy\n",
    "from mlscratch.activation import *\n",
    "from mlscratch.nn_layers import fully_connected\n",
    "\n",
    "\n",
    "class NeuralNetwork(object):\n",
    "\n",
    "    def __init__(self):\n",
    "        self.architecture = []\n",
    "        self.weights = [] # TODO: change to np.array() blank array if possible. # sudo code\n",
    "        self.local_node_gradients = []\n",
    "        self.loss_partial_gradients = []\n",
    "        self.loss_function = None\n",
    "        self.optimizer = None\n",
    "        \n",
    "    def add(self, layer):\n",
    "        self.architecture.append(layer)\n",
    "\n",
    "    def compile(self, input_size):\n",
    "        self.architecture.insert(0, fully_connected(num_nodes=input_size, activation=no_activation))\n",
    "        for i in range(0, len(self.architecture)-1):\n",
    "            self.weights.append(self._weight_initialization(self.architecture[i], self.architecture[i+1]))\n",
    "            \n",
    "    def train(self, x, y, batch_size):\n",
    "        pass\n",
    "\n",
    "    def validate(self, x, y):\n",
    "        pass\n",
    "\n",
    "    def predict(self, x):\n",
    "        return self._forward_pass(input_values=x)\n",
    "\n",
    "    def _forward_pass(self, input_values):\n",
    "        for index, layer_weights in enumerate(self.weights):\n",
    "            output_values = self.architecture[index+1].activation.evaluate((np.dot(input_values, \n",
    "                                                                                    layer_weights.transpose())))\n",
    "            local_layer_gradients = self.architecture[index+1].activation.derivative(output_values, input_values)  \n",
    "            self.local_node_gradients.append(local_layer_gradients)\n",
    "            input_values = output_values\n",
    "            \n",
    "        output = input_values        \n",
    "        return output\n",
    "    \n",
    "    def _backward_pass(self):\n",
    "        for index, local_layer_gradients in reversed(self.local_node_gradients):\n",
    "            loss_partial_gradients_layer = self.architecture[-index-1].activation.derivative(output_values[-index-1],\n",
    "                                                                                             input_values)\n",
    "            self.loss_partial_gradients.insert(0, loss_partial_gradients_layer)\n",
    "            \n",
    "            \n",
    "    \n",
    "    def _weight_initialization(self, layer_l_minus1, layer_l):\n",
    "        num_nodes_layer_l_minus1 = layer_l_minus1.num_nodes\n",
    "        num_nodes_layer_l = layer_l.num_nodes\n",
    "        weight_matrix = np.random.randn(num_nodes_layer_l, num_nodes_layer_l_minus1) * \\\n",
    "                  np.sqrt(2/num_nodes_layer_l_minus1)\n",
    "        return weight_matrix"
   ]
  },
  {
   "cell_type": "code",
   "execution_count": 3,
   "metadata": {},
   "outputs": [],
   "source": [
    "# sudo code\n",
    "from mlscratch.nn_layers import fully_connected\n",
    "from mlscratch.optimization import adam\n",
    "from mlscratch.activation import relu, sigmoid\n",
    "from mlscratch.loss_functions import binary_cross_entropy\n",
    "\n",
    "neural_network = NeuralNetwork()\n",
    "neural_network.add(layer=fully_connected(num_nodes=10, activation=relu))\n",
    "neural_network.add(layer=fully_connected(num_nodes=10, activation=relu))\n",
    "neural_network.add(layer=fully_connected(num_nodes=1, activation=sigmoid))\n",
    "neural_network.loss_function = binary_cross_entropy\n",
    "neural_network.optimizer = adam"
   ]
  },
  {
   "cell_type": "code",
   "execution_count": 4,
   "metadata": {},
   "outputs": [],
   "source": [
    "x = np.array(np.arange(100))\n",
    "delta = np.random.uniform(0,10, size=(100,))\n",
    "y = (.4 * x +1 + delta)"
   ]
  },
  {
   "cell_type": "code",
   "execution_count": 5,
   "metadata": {
    "scrolled": false
   },
   "outputs": [
    {
     "name": "stdout",
     "output_type": "stream",
     "text": [
      "[ 0  1  2  3  4  5  6  7  8  9 10 11 12 13 14 15 16 17 18 19 20 21 22 23\n",
      " 24 25 26 27 28 29 30 31 32 33 34 35 36 37 38 39 40 41 42 43 44 45 46 47\n",
      " 48 49 50 51 52 53 54 55 56 57 58 59 60 61 62 63 64 65 66 67 68 69 70 71\n",
      " 72 73 74 75 76 77 78 79 80 81 82 83 84 85 86 87 88 89 90 91 92 93 94 95\n",
      " 96 97 98 99]\n"
     ]
    }
   ],
   "source": [
    "# sudo code\n",
    "input_size = 100\n",
    "neural_network.compile(input_size)\n",
    "neural_network.train(x, y, batch_size=20)\n",
    "print(x.transpose())"
   ]
  },
  {
   "cell_type": "code",
   "execution_count": 6,
   "metadata": {},
   "outputs": [
    {
     "data": {
      "text/plain": [
       "array([8.22512525e-05])"
      ]
     },
     "execution_count": 6,
     "metadata": {},
     "output_type": "execute_result"
    }
   ],
   "source": [
    "neural_network.predict(x)"
   ]
  },
  {
   "cell_type": "code",
   "execution_count": 7,
   "metadata": {},
   "outputs": [
    {
     "data": {
      "text/plain": [
       "<mlscratch.activation.relu at 0x7f7b9314ae10>"
      ]
     },
     "execution_count": 7,
     "metadata": {},
     "output_type": "execute_result"
    }
   ],
   "source": [
    "neural_network.architecture[2].activation"
   ]
  },
  {
   "cell_type": "code",
   "execution_count": 10,
   "metadata": {
    "scrolled": false
   },
   "outputs": [
    {
     "data": {
      "text/plain": [
       "[array([[ 0,  0,  0,  0,  0,  0,  0,  0,  0,  0],\n",
       "        [ 0,  0,  1,  1,  1,  0,  0,  1,  1,  0],\n",
       "        [ 0,  0,  2,  2,  2,  0,  0,  2,  2,  0],\n",
       "        [ 0,  0,  3,  3,  3,  0,  0,  3,  3,  0],\n",
       "        [ 0,  0,  4,  4,  4,  0,  0,  4,  4,  0],\n",
       "        [ 0,  0,  5,  5,  5,  0,  0,  5,  5,  0],\n",
       "        [ 0,  0,  6,  6,  6,  0,  0,  6,  6,  0],\n",
       "        [ 0,  0,  7,  7,  7,  0,  0,  7,  7,  0],\n",
       "        [ 0,  0,  8,  8,  8,  0,  0,  8,  8,  0],\n",
       "        [ 0,  0,  9,  9,  9,  0,  0,  9,  9,  0],\n",
       "        [ 0,  0, 10, 10, 10,  0,  0, 10, 10,  0],\n",
       "        [ 0,  0, 11, 11, 11,  0,  0, 11, 11,  0],\n",
       "        [ 0,  0, 12, 12, 12,  0,  0, 12, 12,  0],\n",
       "        [ 0,  0, 13, 13, 13,  0,  0, 13, 13,  0],\n",
       "        [ 0,  0, 14, 14, 14,  0,  0, 14, 14,  0],\n",
       "        [ 0,  0, 15, 15, 15,  0,  0, 15, 15,  0],\n",
       "        [ 0,  0, 16, 16, 16,  0,  0, 16, 16,  0],\n",
       "        [ 0,  0, 17, 17, 17,  0,  0, 17, 17,  0],\n",
       "        [ 0,  0, 18, 18, 18,  0,  0, 18, 18,  0],\n",
       "        [ 0,  0, 19, 19, 19,  0,  0, 19, 19,  0],\n",
       "        [ 0,  0, 20, 20, 20,  0,  0, 20, 20,  0],\n",
       "        [ 0,  0, 21, 21, 21,  0,  0, 21, 21,  0],\n",
       "        [ 0,  0, 22, 22, 22,  0,  0, 22, 22,  0],\n",
       "        [ 0,  0, 23, 23, 23,  0,  0, 23, 23,  0],\n",
       "        [ 0,  0, 24, 24, 24,  0,  0, 24, 24,  0],\n",
       "        [ 0,  0, 25, 25, 25,  0,  0, 25, 25,  0],\n",
       "        [ 0,  0, 26, 26, 26,  0,  0, 26, 26,  0],\n",
       "        [ 0,  0, 27, 27, 27,  0,  0, 27, 27,  0],\n",
       "        [ 0,  0, 28, 28, 28,  0,  0, 28, 28,  0],\n",
       "        [ 0,  0, 29, 29, 29,  0,  0, 29, 29,  0],\n",
       "        [ 0,  0, 30, 30, 30,  0,  0, 30, 30,  0],\n",
       "        [ 0,  0, 31, 31, 31,  0,  0, 31, 31,  0],\n",
       "        [ 0,  0, 32, 32, 32,  0,  0, 32, 32,  0],\n",
       "        [ 0,  0, 33, 33, 33,  0,  0, 33, 33,  0],\n",
       "        [ 0,  0, 34, 34, 34,  0,  0, 34, 34,  0],\n",
       "        [ 0,  0, 35, 35, 35,  0,  0, 35, 35,  0],\n",
       "        [ 0,  0, 36, 36, 36,  0,  0, 36, 36,  0],\n",
       "        [ 0,  0, 37, 37, 37,  0,  0, 37, 37,  0],\n",
       "        [ 0,  0, 38, 38, 38,  0,  0, 38, 38,  0],\n",
       "        [ 0,  0, 39, 39, 39,  0,  0, 39, 39,  0],\n",
       "        [ 0,  0, 40, 40, 40,  0,  0, 40, 40,  0],\n",
       "        [ 0,  0, 41, 41, 41,  0,  0, 41, 41,  0],\n",
       "        [ 0,  0, 42, 42, 42,  0,  0, 42, 42,  0],\n",
       "        [ 0,  0, 43, 43, 43,  0,  0, 43, 43,  0],\n",
       "        [ 0,  0, 44, 44, 44,  0,  0, 44, 44,  0],\n",
       "        [ 0,  0, 45, 45, 45,  0,  0, 45, 45,  0],\n",
       "        [ 0,  0, 46, 46, 46,  0,  0, 46, 46,  0],\n",
       "        [ 0,  0, 47, 47, 47,  0,  0, 47, 47,  0],\n",
       "        [ 0,  0, 48, 48, 48,  0,  0, 48, 48,  0],\n",
       "        [ 0,  0, 49, 49, 49,  0,  0, 49, 49,  0],\n",
       "        [ 0,  0, 50, 50, 50,  0,  0, 50, 50,  0],\n",
       "        [ 0,  0, 51, 51, 51,  0,  0, 51, 51,  0],\n",
       "        [ 0,  0, 52, 52, 52,  0,  0, 52, 52,  0],\n",
       "        [ 0,  0, 53, 53, 53,  0,  0, 53, 53,  0],\n",
       "        [ 0,  0, 54, 54, 54,  0,  0, 54, 54,  0],\n",
       "        [ 0,  0, 55, 55, 55,  0,  0, 55, 55,  0],\n",
       "        [ 0,  0, 56, 56, 56,  0,  0, 56, 56,  0],\n",
       "        [ 0,  0, 57, 57, 57,  0,  0, 57, 57,  0],\n",
       "        [ 0,  0, 58, 58, 58,  0,  0, 58, 58,  0],\n",
       "        [ 0,  0, 59, 59, 59,  0,  0, 59, 59,  0],\n",
       "        [ 0,  0, 60, 60, 60,  0,  0, 60, 60,  0],\n",
       "        [ 0,  0, 61, 61, 61,  0,  0, 61, 61,  0],\n",
       "        [ 0,  0, 62, 62, 62,  0,  0, 62, 62,  0],\n",
       "        [ 0,  0, 63, 63, 63,  0,  0, 63, 63,  0],\n",
       "        [ 0,  0, 64, 64, 64,  0,  0, 64, 64,  0],\n",
       "        [ 0,  0, 65, 65, 65,  0,  0, 65, 65,  0],\n",
       "        [ 0,  0, 66, 66, 66,  0,  0, 66, 66,  0],\n",
       "        [ 0,  0, 67, 67, 67,  0,  0, 67, 67,  0],\n",
       "        [ 0,  0, 68, 68, 68,  0,  0, 68, 68,  0],\n",
       "        [ 0,  0, 69, 69, 69,  0,  0, 69, 69,  0],\n",
       "        [ 0,  0, 70, 70, 70,  0,  0, 70, 70,  0],\n",
       "        [ 0,  0, 71, 71, 71,  0,  0, 71, 71,  0],\n",
       "        [ 0,  0, 72, 72, 72,  0,  0, 72, 72,  0],\n",
       "        [ 0,  0, 73, 73, 73,  0,  0, 73, 73,  0],\n",
       "        [ 0,  0, 74, 74, 74,  0,  0, 74, 74,  0],\n",
       "        [ 0,  0, 75, 75, 75,  0,  0, 75, 75,  0],\n",
       "        [ 0,  0, 76, 76, 76,  0,  0, 76, 76,  0],\n",
       "        [ 0,  0, 77, 77, 77,  0,  0, 77, 77,  0],\n",
       "        [ 0,  0, 78, 78, 78,  0,  0, 78, 78,  0],\n",
       "        [ 0,  0, 79, 79, 79,  0,  0, 79, 79,  0],\n",
       "        [ 0,  0, 80, 80, 80,  0,  0, 80, 80,  0],\n",
       "        [ 0,  0, 81, 81, 81,  0,  0, 81, 81,  0],\n",
       "        [ 0,  0, 82, 82, 82,  0,  0, 82, 82,  0],\n",
       "        [ 0,  0, 83, 83, 83,  0,  0, 83, 83,  0],\n",
       "        [ 0,  0, 84, 84, 84,  0,  0, 84, 84,  0],\n",
       "        [ 0,  0, 85, 85, 85,  0,  0, 85, 85,  0],\n",
       "        [ 0,  0, 86, 86, 86,  0,  0, 86, 86,  0],\n",
       "        [ 0,  0, 87, 87, 87,  0,  0, 87, 87,  0],\n",
       "        [ 0,  0, 88, 88, 88,  0,  0, 88, 88,  0],\n",
       "        [ 0,  0, 89, 89, 89,  0,  0, 89, 89,  0],\n",
       "        [ 0,  0, 90, 90, 90,  0,  0, 90, 90,  0],\n",
       "        [ 0,  0, 91, 91, 91,  0,  0, 91, 91,  0],\n",
       "        [ 0,  0, 92, 92, 92,  0,  0, 92, 92,  0],\n",
       "        [ 0,  0, 93, 93, 93,  0,  0, 93, 93,  0],\n",
       "        [ 0,  0, 94, 94, 94,  0,  0, 94, 94,  0],\n",
       "        [ 0,  0, 95, 95, 95,  0,  0, 95, 95,  0],\n",
       "        [ 0,  0, 96, 96, 96,  0,  0, 96, 96,  0],\n",
       "        [ 0,  0, 97, 97, 97,  0,  0, 97, 97,  0],\n",
       "        [ 0,  0, 98, 98, 98,  0,  0, 98, 98,  0],\n",
       "        [ 0,  0, 99, 99, 99,  0,  0, 99, 99,  0]]),\n",
       " array([[ 0.        ,  0.        ,  0.        ,  0.        ,  0.        ,\n",
       "          0.        ,  0.        ,  0.        ,  0.        ,  0.        ],\n",
       "        [ 0.        ,  0.        ,  0.        ,  0.        ,  0.        ,\n",
       "          0.        ,  0.        ,  0.        ,  0.        ,  0.        ],\n",
       "        [ 0.        ,  2.44518733,  0.        ,  0.        ,  2.44518733,\n",
       "          2.44518733,  2.44518733,  0.        ,  2.44518733,  0.        ],\n",
       "        [ 0.        , 51.26715052,  0.        ,  0.        , 51.26715052,\n",
       "         51.26715052, 51.26715052,  0.        , 51.26715052,  0.        ],\n",
       "        [ 0.        , 57.35329001,  0.        ,  0.        , 57.35329001,\n",
       "         57.35329001, 57.35329001,  0.        , 57.35329001,  0.        ],\n",
       "        [ 0.        ,  0.        ,  0.        ,  0.        ,  0.        ,\n",
       "          0.        ,  0.        ,  0.        ,  0.        ,  0.        ],\n",
       "        [ 0.        ,  0.        ,  0.        ,  0.        ,  0.        ,\n",
       "          0.        ,  0.        ,  0.        ,  0.        ,  0.        ],\n",
       "        [ 0.        , 18.91312444,  0.        ,  0.        , 18.91312444,\n",
       "         18.91312444, 18.91312444,  0.        , 18.91312444,  0.        ],\n",
       "        [ 0.        , 19.34789894,  0.        ,  0.        , 19.34789894,\n",
       "         19.34789894, 19.34789894,  0.        , 19.34789894,  0.        ],\n",
       "        [ 0.        ,  0.        ,  0.        ,  0.        ,  0.        ,\n",
       "          0.        ,  0.        ,  0.        ,  0.        ,  0.        ]]),\n",
       " array([0.        , 0.00299583, 0.        , 0.        , 0.00369071,\n",
       "        0.00354256, 0.00410826, 0.        , 0.00114035, 0.        ])]"
      ]
     },
     "execution_count": 10,
     "metadata": {},
     "output_type": "execute_result"
    }
   ],
   "source": [
    "neural_network.local_node_gradients"
   ]
  },
  {
   "cell_type": "code",
   "execution_count": null,
   "metadata": {},
   "outputs": [],
   "source": []
  }
 ],
 "metadata": {
  "kernelspec": {
   "display_name": "Python 3",
   "language": "python",
   "name": "python3"
  },
  "language_info": {
   "codemirror_mode": {
    "name": "ipython",
    "version": 3
   },
   "file_extension": ".py",
   "mimetype": "text/x-python",
   "name": "python",
   "nbconvert_exporter": "python",
   "pygments_lexer": "ipython3",
   "version": "3.6.5"
  }
 },
 "nbformat": 4,
 "nbformat_minor": 2
}
