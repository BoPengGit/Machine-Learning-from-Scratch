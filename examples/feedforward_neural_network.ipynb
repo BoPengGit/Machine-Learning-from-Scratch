{
 "cells": [
  {
   "cell_type": "code",
   "execution_count": 3,
   "metadata": {},
   "outputs": [],
   "source": [
    "import matplotlib.pyplot as plt\n",
    "import numpy as np\n",
    "import sys\n",
    "sys.path.append('..')\n",
    "% matplotlib inline"
   ]
  },
  {
   "cell_type": "code",
   "execution_count": 17,
   "metadata": {},
   "outputs": [],
   "source": [
    "class NeuralNetwork(object):\n",
    "\n",
    "    def __init__(self):\n",
    "        self.architecture = []\n",
    "        self.weights = [] # TODO: change to np.array() blank array if possible. # sudo code\n",
    "        self.loss_function = None\n",
    "        self.optimizer = None\n",
    "        \n",
    "    def add(self, layer):\n",
    "        self.architecture.append(layer)\n",
    "\n",
    "    def compile(self, input_size):\n",
    "        for layer in self.architecture:\n",
    "            self.weights.append(layer)\n",
    "        \n",
    "\n",
    "    def train(self, x, y, batch_size):\n",
    "        pass\n",
    "\n",
    "    def validate(self, x, y):\n",
    "        pass\n",
    "\n",
    "    def predict(self, x):\n",
    "        pass\n",
    "\n",
    "    def _forward_pass(self):\n",
    "        pass\n",
    "\n",
    "    def _backward_pass(self):\n",
    "        pass"
   ]
  },
  {
   "cell_type": "code",
   "execution_count": 18,
   "metadata": {},
   "outputs": [],
   "source": [
    "# sudo code\n",
    "from mlscratch.nn_layers import fully_connected\n",
    "from mlscratch.optimization import adam\n",
    "from mlscratch.activation import relu\n",
    "from mlscratch.loss_functions import binary_cross_entropy\n",
    "\n",
    "neural_network = NeuralNetwork()\n",
    "neural_network.add(layer=fully_connected(num_nodes=10, activation=relu))\n",
    "neural_network.add(layer=fully_connected(num_nodes=10, activation=relu))\n",
    "neural_network.add(layer=fully_connected(num_nodes=1, activation=relu))\n",
    "neural_network.add(layer=binary_cross_entropy)\n",
    "neural_network.optimizer = adam"
   ]
  },
  {
   "cell_type": "code",
   "execution_count": 19,
   "metadata": {},
   "outputs": [],
   "source": [
    "x = np.array(np.arange(100))\n",
    "delta = np.random.uniform(0,10, size=(100,))\n",
    "y = (.4 * x +1 + delta)"
   ]
  },
  {
   "cell_type": "code",
   "execution_count": 20,
   "metadata": {},
   "outputs": [],
   "source": [
    "# sudo code\n",
    "input_size = 100\n",
    "neural_network.compile(input_size)\n",
    "neural_network.train(x, y, batch_size=20)"
   ]
  },
  {
   "cell_type": "code",
   "execution_count": 21,
   "metadata": {},
   "outputs": [],
   "source": [
    "neural_network.validate(x, y)\n",
    "neural_network.predict(x)"
   ]
  },
  {
   "cell_type": "code",
   "execution_count": null,
   "metadata": {},
   "outputs": [],
   "source": []
  },
  {
   "cell_type": "code",
   "execution_count": null,
   "metadata": {},
   "outputs": [],
   "source": []
  },
  {
   "cell_type": "code",
   "execution_count": null,
   "metadata": {},
   "outputs": [],
   "source": []
  }
 ],
 "metadata": {
  "kernelspec": {
   "display_name": "Python 3",
   "language": "python",
   "name": "python3"
  },
  "language_info": {
   "codemirror_mode": {
    "name": "ipython",
    "version": 3
   },
   "file_extension": ".py",
   "mimetype": "text/x-python",
   "name": "python",
   "nbconvert_exporter": "python",
   "pygments_lexer": "ipython3",
   "version": "3.6.5"
  }
 },
 "nbformat": 4,
 "nbformat_minor": 2
}
