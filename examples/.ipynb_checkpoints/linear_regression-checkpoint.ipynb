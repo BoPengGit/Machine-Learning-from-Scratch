{
 "cells": [
  {
   "cell_type": "code",
   "execution_count": 103,
   "metadata": {},
   "outputs": [],
   "source": [
    "import matplotlib.pyplot as plt\n",
    "% matplotlib inline"
   ]
  },
  {
   "cell_type": "code",
   "execution_count": 129,
   "metadata": {},
   "outputs": [],
   "source": [
    "import numpy as np\n",
    "\n",
    "\n",
    "class LinearRegression(object):\n",
    "    \"\"\"Multivariate linear regression model using gradient descent\"\"\"\n",
    "\n",
    "    def __init__(self):\n",
    "        pass\n",
    "\n",
    "    def train(self, x, y, epochs=10, batch_size=32, learning_rate=0.0001):\n",
    "\n",
    "        self.theta_array = np.zeros(np.array(x.ndim)+1)\n",
    "\n",
    "        x = self._add_bias(x)\n",
    "        \n",
    "        self.loss = []\n",
    "        self.theta = []\n",
    "        \n",
    "        for _ in range(1, epochs):\n",
    "            loss = self._avg_minibatch_loss(x, self.theta_array, y)\n",
    "            print('loss: ', loss)\n",
    "            print(\"theta: {}\".format(self.theta_array))\n",
    "            self.loss.append(loss)\n",
    "            self.theta.append(self.theta_array)\n",
    "\n",
    "            avg_minibatch_partial_grads = np.average(\n",
    "                                      (x.transpose().dot(self.theta_array) - y) * x, axis=1)\n",
    "            print('avg minibatch_partial_grads: {}'.format(avg_minibatch_partial_grads))\n",
    "            self.theta_array -= learning_rate * avg_minibatch_partial_grads\n",
    "\n",
    "    def validate(self, x, y):\n",
    "        self._check_theta_exists()\n",
    "\n",
    "        x = self._add_bias(x)\n",
    "\n",
    "        predicted_y = np.dot(x.transpose(), self.theta_array)\n",
    "        rmse = np.sqrt(np.average(np.square(y- predicted_y))) # Root Mean Square Error (RMSE)\n",
    "        return predicted_y, rmse\n",
    "\n",
    "    def predict(self, x):\n",
    "        self._check_theta_exists()\n",
    "\n",
    "        x = self._add_bias(x)\n",
    "\n",
    "        predicted_y = np.dot(x.transpose(), self.theta_array)\n",
    "        return predicted_y\n",
    "\n",
    "    def _add_bias(self, x):\n",
    "        if x.ndim == 1:\n",
    "             x = np.row_stack((x, np.ones(len(x))))\n",
    "        else:\n",
    "             x = np.row_stack((x, np.ones(len(x[0]))))\n",
    "        return x\n",
    "    \n",
    "    def _avg_minibatch_loss(self, x, theta_array, y):\n",
    "        # RMSE\n",
    "        avg_minibatch_loss = np.sqrt(\n",
    "                 np.average(\n",
    "                 np.square(\n",
    "                 x.transpose().dot(theta_array) - y)))\n",
    "        return avg_minibatch_loss\n",
    "    \n",
    "    def _check_theta_exists(self):\n",
    "        assert hasattr(self, 'theta_array'), (\"ValueError: theta is not defined. \"\n",
    "            \"Please make sure to train the model before predicting.\")\n"
   ]
  },
  {
   "cell_type": "code",
   "execution_count": 130,
   "metadata": {},
   "outputs": [],
   "source": [
    "linear_regression = LinearRegression()"
   ]
  },
  {
   "cell_type": "code",
   "execution_count": 131,
   "metadata": {},
   "outputs": [],
   "source": [
    "x = np.array(np.arange(100))\n",
    "delta = np.random.uniform(-10,10, size=(100,))\n",
    "y = (.4 * x +3 + delta)"
   ]
  },
  {
   "cell_type": "code",
   "execution_count": 132,
   "metadata": {},
   "outputs": [
    {
     "name": "stdout",
     "output_type": "stream",
     "text": [
      "loss:  26.68598901658508\n",
      "theta: [0. 0.]\n",
      "avg minibatch_partial_grads: [-1489.29860487   -23.10681381]\n",
      "loss:  827.626541202419\n",
      "theta: [14.89298605  0.23106814]\n",
      "avg minibatch_partial_grads: [47423.25895898   714.32706374]\n",
      "loss:  26352.963590219628\n",
      "theta: [-459.33960354   -6.9122025 ]\n",
      "avg minibatch_partial_grads: [-1510073.04085559   -22767.32939159]\n",
      "loss:  839143.2430169778\n",
      "theta: [14641.39080501   220.76109142]\n",
      "avg minibatch_partial_grads: [48084445.08368646   724946.49912584]\n",
      "loss:  26720387.572961513\n",
      "theta: [-466203.06003185   -7028.70389984]\n",
      "avg minibatch_partial_grads: [-1.53112716e+09 -2.30841033e+07]\n",
      "loss:  850842949.6504351\n",
      "theta: [14845068.51753041   223812.32892306]\n",
      "avg minibatch_partial_grads: [4.87548597e+10 7.35054681e+08]\n",
      "loss:  27092935047.9341\n",
      "theta: [-4.72703528e+08 -7.12673448e+06]\n",
      "avg minibatch_partial_grads: [-1.55247481e+12 -2.34059514e+10]\n",
      "loss:  862705778796.3658\n",
      "theta: [1.50520446e+10 2.26932780e+08]\n",
      "avg minibatch_partial_grads: [4.94346215e+13 7.45303139e+11]\n",
      "loss:  27470676744762.492\n",
      "theta: [-4.79294171e+11 -7.22609861e+09]\n",
      "avg minibatch_partial_grads: [-1.57412010e+15 -2.37322876e+13]\n"
     ]
    }
   ],
   "source": [
    "linear_regression.train(x, y, epochs=10, learning_rate=0.01)"
   ]
  },
  {
   "cell_type": "code",
   "execution_count": 133,
   "metadata": {},
   "outputs": [
    {
     "name": "stdout",
     "output_type": "stream",
     "text": [
      "loss:  26.68598901658508\n",
      "theta: [0. 0.]\n",
      "avg minibatch_partial_grads: [-1489.29860487   -23.10681381]\n",
      "loss:  59.67661049307851\n",
      "theta: [1.4892986  0.02310681]\n",
      "avg minibatch_partial_grads: [3401.95715151   50.63657395]\n",
      "loss:  135.74819668832163\n",
      "theta: [-1.91265855 -0.02752976]\n",
      "avg minibatch_partial_grads: [-7770.87566589  -117.81094163]\n",
      "loss:  309.833093258814\n",
      "theta: [5.85821712 0.09028118]\n",
      "avg minibatch_partial_grads: [17750.62622466   266.96521478]\n",
      "loss:  707.6259393082997\n",
      "theta: [-11.89240911  -0.17668403]\n",
      "avg minibatch_partial_grads: [-40546.76976215   -611.95774856]\n",
      "loss:  1616.3441368393303\n",
      "theta: [28.65436066  0.43527372]\n",
      "avg minibatch_partial_grads: [92618.84066043  1395.71931241]\n",
      "loss:  3692.1071750701244\n",
      "theta: [-63.96448    -0.9604456]\n",
      "avg minibatch_partial_grads: [-211564.21075405   -3190.30901959]\n",
      "loss:  8433.672953960111\n",
      "theta: [147.59973075   2.22986342]\n",
      "avg minibatch_partial_grads: [483264.79555335   7285.30972176]\n",
      "loss:  19264.582136827226\n",
      "theta: [-335.6650648   -5.0554463]\n",
      "avg minibatch_partial_grads: [-1103895.78347731   -16643.58296786]\n"
     ]
    }
   ],
   "source": [
    "linear_regression.train(x, y, epochs=10, learning_rate=0.001)"
   ]
  },
  {
   "cell_type": "code",
   "execution_count": 134,
   "metadata": {},
   "outputs": [
    {
     "name": "stdout",
     "output_type": "stream",
     "text": [
      "loss:  26.68598901658508\n",
      "theta: [0. 0.]\n",
      "avg minibatch_partial_grads: [-1489.29860487   -23.10681381]\n",
      "loss:  18.474187435901946\n",
      "theta: [0.14892986 0.00231068]\n",
      "avg minibatch_partial_grads: [-1000.17302923   -15.73247503]\n",
      "loss:  13.192377561084497\n",
      "theta: [0.24894716 0.00388393]\n",
      "avg minibatch_partial_grads: [-671.68833933  -10.78004529]\n",
      "loss:  9.929940511064684\n",
      "theta: [0.316116   0.00496193]\n",
      "avg minibatch_partial_grads: [-451.08611189   -7.45411001]\n",
      "loss:  8.036256689515834\n",
      "theta: [0.36122461 0.00570734]\n",
      "avg minibatch_partial_grads: [-302.93508921   -5.22048834]\n",
      "loss:  7.016898190104143\n",
      "theta: [0.39151812 0.00622939]\n",
      "avg minibatch_partial_grads: [-203.44051125   -3.7204376 ]\n",
      "loss:  6.505091033912191\n",
      "theta: [0.41186217 0.00660144]\n",
      "avg minibatch_partial_grads: [-136.62240321   -2.71303503]\n",
      "loss:  6.2605795020636625\n",
      "theta: [0.42552441 0.00687274]\n",
      "avg minibatch_partial_grads: [-91.7490076   -2.03648283]\n",
      "loss:  6.147116095480969\n",
      "theta: [0.43469931 0.00707639]\n",
      "avg minibatch_partial_grads: [-61.61314036  -1.58212159]\n"
     ]
    }
   ],
   "source": [
    "linear_regression.train(x, y, epochs=10, learning_rate=0.0001)"
   ]
  },
  {
   "cell_type": "code",
   "execution_count": 124,
   "metadata": {},
   "outputs": [
    {
     "data": {
      "text/plain": [
       "[<matplotlib.lines.Line2D at 0x7f586e1c4470>]"
      ]
     },
     "execution_count": 124,
     "metadata": {},
     "output_type": "execute_result"
    },
    {
     "data": {
      "image/png": "[encoded data removed]",
      "text/plain": [
       "<Figure size 432x288 with 1 Axes>"
      ]
     },
     "metadata": {},
     "output_type": "display_data"
    }
   ],
   "source": [
    "fig = plt.figure()\n",
    "\n",
    "plt.subplot(1, 2, 1)\n",
    "plt.plot(linear_regression.loss)\n",
    "\n",
    "plt.subplot(1, 2, 2)\n",
    "plt.plot(x, y)\n",
    "\n",
    "plt.show()\n",
    "\n",
    "plt.plot(linear_regression.loss)"
   ]
  },
  {
   "cell_type": "code",
   "execution_count": 121,
   "metadata": {},
   "outputs": [],
   "source": [
    "y_predicted = linear_regression.predict(x)"
   ]
  },
  {
   "cell_type": "code",
   "execution_count": 122,
   "metadata": {},
   "outputs": [
    {
     "data": {
      "image/png": "[encoded data removed]",
      "text/plain": [
       "<Figure size 432x288 with 1 Axes>"
      ]
     },
     "metadata": {},
     "output_type": "display_data"
    }
   ],
   "source": [
    "import matplotlib.pyplot as plt\n",
    "% matplotlib inline\n",
    "\n",
    "plt.scatter(x, y)\n",
    "plt.plot(x, y_predicted, color='red')\n",
    "plt.show()"
   ]
  },
  {
   "cell_type": "code",
   "execution_count": null,
   "metadata": {},
   "outputs": [],
   "source": []
  },
  {
   "cell_type": "code",
   "execution_count": null,
   "metadata": {},
   "outputs": [],
   "source": []
  }
 ],
 "metadata": {
  "kernelspec": {
   "display_name": "Python 3",
   "language": "python",
   "name": "python3"
  },
  "language_info": {
   "codemirror_mode": {
    "name": "ipython",
    "version": 3
   },
   "file_extension": ".py",
   "mimetype": "text/x-python",
   "name": "python",
   "nbconvert_exporter": "python",
   "pygments_lexer": "ipython3",
   "version": "3.6.5"
  }
 },
 "nbformat": 4,
 "nbformat_minor": 2
}
