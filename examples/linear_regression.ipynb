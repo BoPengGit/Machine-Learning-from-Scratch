{
 "cells": [
  {
   "cell_type": "code",
   "execution_count": 49,
   "metadata": {},
   "outputs": [],
   "source": [
    "import numpy as np\n",
    "\n",
    "\n",
    "class LinearRegression(object):\n",
    "    \"\"\"Multivariate linear regression model using batch gradient descent\"\"\"\n",
    "\n",
    "    def __init__(self):\n",
    "        pass\n",
    "\n",
    "    def train(self, x, y, epochs=10, batch_size=32, learning_rate=0.0001):\n",
    "\n",
    "        self.theta_array = np.zeros(np.array(x.ndim)+1)\n",
    "\n",
    "        x = self._add_bias(x)\n",
    "\n",
    "        for _ in range(1, epochs):\n",
    "            print(self.theta_array)\n",
    "            avg_batch_partial_grads = np.average(\n",
    "                                      (x.transpose().dot(self.theta_array) - y) * x, axis=1)\n",
    "            self.theta_array -= learning_rate * avg_batch_partial_grads\n",
    "\n",
    "    def validate(self, x, y):\n",
    "        self._check_theta_exists()\n",
    "\n",
    "        x = self._add_bias(x)\n",
    "\n",
    "        predicted_y = np.dot(x.transpose(), self.theta_array)\n",
    "        rmse = np.sqrt(np.average(np.square(y- predicted_y))) # Root Mean Square Error (RMSE)\n",
    "        return predicted_y, rmse\n",
    "\n",
    "    def predict(self, x):\n",
    "        self._check_theta_exists()\n",
    "\n",
    "        x = self._add_bias(x)\n",
    "\n",
    "        predicted_y = np.dot(x.transpose(), self.theta_array)\n",
    "        return predicted_y\n",
    "\n",
    "    def _add_bias(self, x):\n",
    "        if x.ndim == 1:\n",
    "             x = np.row_stack((x, np.ones(len(x))))\n",
    "        else:\n",
    "             x = np.row_stack((x, np.ones(len(x[0]))))\n",
    "        return x\n",
    "    \n",
    "    def _avg_batch_loss(x, theta, y):\n",
    "        avg_batch_loss = np.average(\n",
    "                 np.sqrt(\n",
    "                 np.square(\n",
    "                 np.dot(x[index], theta) - y)))\n",
    "        return avg_batch_loss\n",
    "    \n",
    "    def _check_theta_exists(self):\n",
    "        assert hasattr(self, 'theta_array'), (\"ValueError: theta is not defined. \"\n",
    "            \"Please make sure to train the model before predicting.\")\n"
   ]
  },
  {
   "cell_type": "code",
   "execution_count": 50,
   "metadata": {},
   "outputs": [],
   "source": [
    "linear_regression = LinearRegression()"
   ]
  },
  {
   "cell_type": "code",
   "execution_count": 51,
   "metadata": {},
   "outputs": [],
   "source": [
    "x = np.array(np.arange(100))\n",
    "delta = np.random.uniform(-10,10, size=(100,))\n",
    "y = (.4 * x +3 + delta)"
   ]
  },
  {
   "cell_type": "code",
   "execution_count": 52,
   "metadata": {},
   "outputs": [
    {
     "name": "stdout",
     "output_type": "stream",
     "text": [
      "[0. 0.]\n",
      "[0.14792478 0.00235355]\n",
      "[0.2472668  0.00397464]\n",
      "[0.31398185 0.00510382]\n",
      "[0.35878543 0.00590265]\n",
      "[0.38887379 0.00647962]\n",
      "[0.40907979 0.0069076 ]\n",
      "[0.42264902 0.00723551]\n",
      "[0.43176118 0.00749622]\n"
     ]
    }
   ],
   "source": [
    "linear_regression.train(x, y, epochs=10, learning_rate=0.0001)"
   ]
  },
  {
   "cell_type": "code",
   "execution_count": 53,
   "metadata": {},
   "outputs": [],
   "source": [
    "y_predicted = linear_regression.predict(x)"
   ]
  },
  {
   "cell_type": "code",
   "execution_count": 54,
   "metadata": {},
   "outputs": [
    {
     "data": {
      "image/png": "[encoded data removed]",
      "text/plain": [
       "<Figure size 432x288 with 1 Axes>"
      ]
     },
     "metadata": {},
     "output_type": "display_data"
    }
   ],
   "source": [
    "import matplotlib.pyplot as plt\n",
    "% matplotlib inline\n",
    "\n",
    "plt.scatter(x, y)\n",
    "plt.plot(x, y_predicted, color='red')\n",
    "plt.show()"
   ]
  },
  {
   "cell_type": "code",
   "execution_count": null,
   "metadata": {},
   "outputs": [],
   "source": []
  },
  {
   "cell_type": "code",
   "execution_count": null,
   "metadata": {},
   "outputs": [],
   "source": []
  }
 ],
 "metadata": {
  "kernelspec": {
   "display_name": "Python 3",
   "language": "python",
   "name": "python3"
  },
  "language_info": {
   "codemirror_mode": {
    "name": "ipython",
    "version": 3
   },
   "file_extension": ".py",
   "mimetype": "text/x-python",
   "name": "python",
   "nbconvert_exporter": "python",
   "pygments_lexer": "ipython3",
   "version": "3.6.5"
  }
 },
 "nbformat": 4,
 "nbformat_minor": 2
}
