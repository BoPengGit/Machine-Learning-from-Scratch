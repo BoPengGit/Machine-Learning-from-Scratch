{
 "cells": [
  {
   "cell_type": "code",
   "execution_count": 7,
   "metadata": {},
   "outputs": [],
   "source": [
    "import numpy as np\n",
    "import sys\n",
    "sys.path.append('..')\n",
    "from mlscratch.linear_regression import LinearRegression\n",
    "from mlscratch.optimization import *\n",
    "\n",
    "\n",
    "class LinearRegression(object):\n",
    "    \"\"\"Multivariate linear regression model using gradient descent\"\"\"\n",
    "\n",
    "    def __init__(self,\n",
    "                 optimizer,\n",
    "                 learning_rate=0.1,\n",
    "                 beta=0.9,\n",
    "                 beta2=0.9,\n",
    "                 velocity=0,\n",
    "                 sqr_velocity=0,\n",
    "                 epsilon=0.000001):\n",
    "\n",
    "        self.optimizer = optimizer\n",
    "        self.learning_rate = learning_rate\n",
    "        self.beta = beta\n",
    "        self.beta2 = beta2\n",
    "        self.velocity = velocity\n",
    "        self.epsilon = epsilon\n",
    "        self.sqr_velocity = sqr_velocity\n",
    "\n",
    "    def train(self, x, y, epochs=10, batch_size=32):\n",
    "\n",
    "        self.theta_array = np.zeros(np.array(x.ndim)+1)\n",
    "\n",
    "        x = self._add_bias(x)\n",
    "\n",
    "        for _ in range(1, epochs):\n",
    "            avg_batch_partial_grads = np.average(\n",
    "                                      (x.transpose().dot(self.theta_array) - y) * x, axis=1)\n",
    "            self.theta_array, self.velocity, self.sqr_velocity = \\\n",
    "                self.optimizer(theta_array=self.theta_array,\n",
    "                               learning_rate=self.learning_rate,\n",
    "                               beta1=self.beta,\n",
    "                               beta2=self.beta2,\n",
    "                               velocity=self.velocity,\n",
    "                               sqr_velocity=self.sqr_velocity,\n",
    "                               gradient=avg_batch_partial_grads,\n",
    "                               epsilon=self.epsilon)\n",
    "                        \n",
    "    def validate(self, x, y):\n",
    "        self._check_theta_exists('validating')\n",
    "\n",
    "        x = self._add_bias(x)\n",
    "\n",
    "        predicted_y = np.dot(x.transpose(), self.theta_array)\n",
    "        rmse = np.sqrt(np.average(np.square(y- predicted_y))) # Root Mean Square Error (RMSE)\n",
    "        return predicted_y, rmse\n",
    "\n",
    "    def predict(self, x):\n",
    "        self._check_theta_exists('predicting')\n",
    "\n",
    "        x = self._add_bias(x)\n",
    "\n",
    "        predicted_y = np.dot(x.transpose(), self.theta_array)\n",
    "        return predicted_y\n",
    "\n",
    "    def _add_bias(self, x):\n",
    "        if x.ndim == 1:\n",
    "             x = np.row_stack((x, np.ones(len(x))))\n",
    "        else:\n",
    "             x = np.row_stack((x, np.ones(len(x[0]))))\n",
    "        return x\n",
    "\n",
    "    def _avg_minibatch_loss(self, x, theta_array, y):\n",
    "        # RMSE\n",
    "        avg_minibatch_loss = np.sqrt(\n",
    "                 np.average(\n",
    "                 np.square(\n",
    "                 x.transpose().dot(theta_array) - y)))\n",
    "        return avg_minibatch_loss\n",
    "\n",
    "    def _check_theta_exists(self, phrase):\n",
    "        assert hasattr(self, 'theta_array'), (\"ValueError: theta is not defined. \"\n",
    "            \"Please make sure to train the model before {}}.\".format(phrase))\n"
   ]
  },
  {
   "cell_type": "code",
   "execution_count": 8,
   "metadata": {},
   "outputs": [],
   "source": [
    "linear_regression = LinearRegression(optimizer=adam)"
   ]
  },
  {
   "cell_type": "code",
   "execution_count": 9,
   "metadata": {},
   "outputs": [],
   "source": [
    "x = np.array(np.arange(100))\n",
    "delta = np.random.uniform(0,10, size=(100,))\n",
    "y = (.4 * x +1 + delta)"
   ]
  },
  {
   "cell_type": "code",
   "execution_count": 10,
   "metadata": {
    "scrolled": true
   },
   "outputs": [],
   "source": [
    "linear_regression.train(x, y, epochs=2000)"
   ]
  },
  {
   "cell_type": "code",
   "execution_count": 11,
   "metadata": {},
   "outputs": [],
   "source": [
    "y_predicted = linear_regression.predict(x)"
   ]
  },
  {
   "cell_type": "code",
   "execution_count": 12,
   "metadata": {},
   "outputs": [
    {
     "data": {
      "image/png": "[encoded data removed]",
      "text/plain": [
       "<Figure size 432x288 with 1 Axes>"
      ]
     },
     "metadata": {},
     "output_type": "display_data"
    }
   ],
   "source": [
    "import matplotlib.pyplot as plt\n",
    "% matplotlib inline\n",
    "\n",
    "plt.scatter(x, y)\n",
    "plt.plot(x, y_predicted, color='red')\n",
    "plt.show()"
   ]
  },
  {
   "cell_type": "code",
   "execution_count": null,
   "metadata": {},
   "outputs": [],
   "source": []
  },
  {
   "cell_type": "code",
   "execution_count": null,
   "metadata": {},
   "outputs": [],
   "source": []
  }
 ],
 "metadata": {
  "kernelspec": {
   "display_name": "Python 3",
   "language": "python",
   "name": "python3"
  },
  "language_info": {
   "codemirror_mode": {
    "name": "ipython",
    "version": 3
   },
   "file_extension": ".py",
   "mimetype": "text/x-python",
   "name": "python",
   "nbconvert_exporter": "python",
   "pygments_lexer": "ipython3",
   "version": "3.6.5"
  }
 },
 "nbformat": 4,
 "nbformat_minor": 2
}
