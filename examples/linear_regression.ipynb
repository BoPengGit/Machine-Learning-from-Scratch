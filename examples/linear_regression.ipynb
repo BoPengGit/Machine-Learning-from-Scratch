{
 "cells": [
  {
   "cell_type": "code",
   "execution_count": 103,
   "metadata": {},
   "outputs": [],
   "source": [
    "import matplotlib.pyplot as plt\n",
    "% matplotlib inline"
   ]
  },
  {
   "cell_type": "code",
   "execution_count": 161,
   "metadata": {},
   "outputs": [],
   "source": [
    "import numpy as np\n",
    "\n",
    "\n",
    "class LinearRegression(object):\n",
    "    \"\"\"Multivariate linear regression model using gradient descent\"\"\"\n",
    "\n",
    "    def __init__(self):\n",
    "        pass\n",
    "\n",
    "    def train(self, x, y, epochs=10, batch_size=32, learning_rate=0.0001):\n",
    "\n",
    "        self.theta_array = np.zeros(np.array(x.ndim)+1)\n",
    "\n",
    "        x = self._add_bias(x)\n",
    "        \n",
    "        self.loss = []\n",
    "        self.theta = []\n",
    "        self.avg_minibatch_partial_grads = []\n",
    "        \n",
    "        for _ in range(1, epochs):\n",
    "            loss = self._avg_minibatch_loss(x, self.theta_array, y)\n",
    "            print('loss: ', loss)\n",
    "            print(\"theta: {}\".format(self.theta_array))\n",
    "            self.loss.append(loss)\n",
    "            self.theta.append(self.theta_array)\n",
    "\n",
    "            avg_minibatch_partial_grads = np.average(\n",
    "                                      (x.transpose().dot(self.theta_array) - y) * x, axis=1)\n",
    "            print('avg minibatch_partial_grads: {}'.format(avg_minibatch_partial_grads))\n",
    "            self.avg_minibatch_partial_grads.append(avg_minibatch_partial_grads)\n",
    "            self.theta_array -= learning_rate * avg_minibatch_partial_grads\n",
    "\n",
    "    def validate(self, x, y):\n",
    "        self._check_theta_exists()\n",
    "\n",
    "        x = self._add_bias(x)\n",
    "\n",
    "        predicted_y = np.dot(x.transpose(), self.theta_array)\n",
    "        rmse = np.sqrt(np.average(np.square(y- predicted_y))) # Root Mean Square Error (RMSE)\n",
    "        return predicted_y, rmse\n",
    "\n",
    "    def predict(self, x):\n",
    "        self._check_theta_exists()\n",
    "\n",
    "        x = self._add_bias(x)\n",
    "\n",
    "        predicted_y = np.dot(x.transpose(), self.theta_array)\n",
    "        return predicted_y\n",
    "\n",
    "    def _add_bias(self, x):\n",
    "        if x.ndim == 1:\n",
    "             x = np.row_stack((x, np.ones(len(x))))\n",
    "        else:\n",
    "             x = np.row_stack((x, np.ones(len(x[0]))))\n",
    "        return x\n",
    "    \n",
    "    def _avg_minibatch_loss(self, x, theta_array, y):\n",
    "        # RMSE\n",
    "        avg_minibatch_loss = np.sqrt(\n",
    "                 np.average(\n",
    "                 np.square(\n",
    "                 x.transpose().dot(theta_array) - y)))\n",
    "        return avg_minibatch_loss\n",
    "    \n",
    "    def _check_theta_exists(self):\n",
    "        assert hasattr(self, 'theta_array'), (\"ValueError: theta is not defined. \"\n",
    "            \"Please make sure to train the model before predicting.\")\n"
   ]
  },
  {
   "cell_type": "code",
   "execution_count": 162,
   "metadata": {},
   "outputs": [],
   "source": [
    "linear_regression = LinearRegression()"
   ]
  },
  {
   "cell_type": "code",
   "execution_count": 163,
   "metadata": {},
   "outputs": [],
   "source": [
    "x = np.array(np.arange(100))\n",
    "delta = np.random.uniform(-10,10, size=(100,))\n",
    "y = (.4 * x +3 + delta)"
   ]
  },
  {
   "cell_type": "code",
   "execution_count": 164,
   "metadata": {},
   "outputs": [
    {
     "name": "stdout",
     "output_type": "stream",
     "text": [
      "loss:  25.67084910884208\n",
      "theta: [0. 0.]\n",
      "avg minibatch_partial_grads: [-1429.12615159   -22.42522596]\n",
      "loss:  794.1919069337465\n",
      "theta: [14.29126152  0.22425226]\n",
      "avg minibatch_partial_grads: [45507.33152273   685.21647133]\n",
      "loss:  25288.28638522511\n",
      "theta: [-440.78205371   -6.62791245]\n",
      "avg minibatch_partial_grads: [-1449065.08117942   -21847.76479713]\n",
      "loss:  805241.2974996784\n",
      "theta: [14049.86875808   211.84973552]\n",
      "avg minibatch_partial_grads: [46141801.50292147   695657.92803465]\n",
      "loss:  25640866.130953666\n",
      "theta: [-447368.14627113   -6744.72954483]\n",
      "avg minibatch_partial_grads: [-1.46926860e+09 -2.21514904e+07]\n",
      "loss:  816468328.1962787\n",
      "theta: [14245317.86892769   214770.17440709]\n",
      "avg minibatch_partial_grads: [4.67851309e+10 7.05357982e+08]\n",
      "loss:  25998362439.98405\n",
      "theta: [-4.53605991e+08 -6.83880965e+06]\n",
      "avg minibatch_partial_grads: [-1.48975379e+12 -2.24603354e+10]\n",
      "loss:  827851891149.2716\n",
      "theta: [1.44439320e+10 2.17764544e+08]\n",
      "avg minibatch_partial_grads: [4.74374299e+13 7.15192396e+11]\n",
      "loss:  26360843120850.266\n",
      "theta: [-4.59930367e+11 -6.93415942e+09]\n",
      "avg minibatch_partial_grads: [-1.51052460e+15 -2.27734873e+13]\n"
     ]
    }
   ],
   "source": [
    "linear_regression.train(x, y, epochs=10, learning_rate=0.01)"
   ]
  },
  {
   "cell_type": "code",
   "execution_count": 185,
   "metadata": {},
   "outputs": [
    {
     "name": "stdout",
     "output_type": "stream",
     "text": [
      "loss:  25.67084910884208\n",
      "theta: [0. 0.]\n",
      "avg minibatch_partial_grads: [-1429.12615159   -22.42522596]\n",
      "loss:  57.293825262115604\n",
      "theta: [1.42912615 0.02242523]\n",
      "avg minibatch_partial_grads: [3264.51961584   48.33894377]\n",
      "loss:  130.27627122387665\n",
      "theta: [-1.83539346 -0.02591372]\n",
      "avg minibatch_partial_grads: [-7456.92332049  -113.30311616]\n",
      "loss:  297.3210583735353\n",
      "theta: [5.62152986 0.0873894 ]\n",
      "avg minibatch_partial_grads: [17033.49290659   255.92789132]\n",
      "loss:  679.0397566234454\n",
      "theta: [-11.41196305  -0.16853849]\n",
      "avg minibatch_partial_grads: [-38908.64948282   -587.48593545]\n",
      "loss:  1551.043797992304\n",
      "theta: [27.49668643  0.41894744]\n",
      "avg minibatch_partial_grads: [88876.98164783  1339.07969989]\n",
      "loss:  3542.944043086588\n",
      "theta: [-61.38029522  -0.92013226]\n",
      "avg minibatch_partial_grads: [-203016.87203796   -3061.66997138]\n",
      "loss:  8092.947152729819\n",
      "theta: [141.63657682   2.14153771]\n",
      "avg minibatch_partial_grads: [463740.57996226   6990.72686447]\n",
      "loss:  18486.280283937875\n",
      "theta: [-322.10400314   -4.84918915]\n",
      "avg minibatch_partial_grads: [-1059297.65532361   -15971.42257053]\n",
      "loss:  42227.21528737453\n",
      "theta: [737.19365218  11.12223342]\n",
      "avg minibatch_partial_grads: [2419696.7813487    36479.78279056]\n",
      "loss:  96457.35899959985\n",
      "theta: [-1682.50312916   -25.35754937]\n",
      "avg minibatch_partial_grads: [-5527183.34945789   -83331.68766899]\n",
      "loss:  220332.3639706265\n",
      "theta: [3844.68022029   57.9741383 ]\n",
      "avg minibatch_partial_grads: [12625448.09702671   190347.21981684]\n",
      "loss:  503293.38455212675\n",
      "theta: [-8780.76787673  -132.37308152]\n",
      "avg minibatch_partial_grads: [-28839632.91694143   -434802.80820579]\n",
      "loss:  1149646.0457832913\n",
      "theta: [20058.86504021   302.42972669]\n",
      "avg minibatch_partial_grads: [65876824.50484197   993193.82399101]\n"
     ]
    }
   ],
   "source": [
    "linear_regression.train(x, y, epochs=15, learning_rate=0.001)"
   ]
  },
  {
   "cell_type": "code",
   "execution_count": 171,
   "metadata": {},
   "outputs": [
    {
     "name": "stdout",
     "output_type": "stream",
     "text": [
      "loss:  25.67084910884208\n",
      "theta: [0. 0.]\n",
      "avg minibatch_partial_grads: [-1429.12615159   -22.42522596]\n",
      "loss:  17.81868661084495\n",
      "theta: [0.14291262 0.00224252]\n",
      "avg minibatch_partial_grads: [-959.76157485  -15.34880899]\n",
      "loss:  12.786333026335132\n",
      "theta: [0.23888877 0.0037774 ]\n",
      "avg minibatch_partial_grads: [-644.54788514  -10.59645431]\n",
      "loss:  9.696765444164793\n",
      "theta: [0.30334356 0.00483705]\n",
      "avg minibatch_partial_grads: [-432.85813461   -7.40488264]\n",
      "loss:  7.91823228125479\n",
      "theta: [0.34662937 0.00557754]\n",
      "avg minibatch_partial_grads: [-290.69251194   -5.26149438]\n",
      "loss:  6.969116199829975\n",
      "theta: [0.37569863 0.00610369]\n",
      "avg minibatch_partial_grads: [-195.21758125   -3.8220403 ]\n",
      "loss:  6.4958260225893305\n",
      "theta: [0.39522038 0.00648589]\n",
      "avg minibatch_partial_grads: [-131.09896934   -2.85533107]\n",
      "loss:  6.270681064788038\n",
      "theta: [0.40833028 0.00677142]\n",
      "avg minibatch_partial_grads: [-88.03848887  -2.20610564]\n",
      "loss:  6.166441564975318\n",
      "theta: [0.41713413 0.00699203]\n",
      "avg minibatch_partial_grads: [-59.12013083  -1.77009451]\n",
      "loss:  6.118840179800727\n",
      "theta: [0.42304614 0.00716904]\n",
      "avg minibatch_partial_grads: [-39.6992739   -1.47727285]\n",
      "loss:  6.097242763202482\n",
      "theta: [0.42701607 0.00731677]\n",
      "avg minibatch_partial_grads: [-26.65670482  -1.28061372]\n",
      "loss:  6.087470003225245\n",
      "theta: [0.42968174 0.00744483]\n",
      "avg minibatch_partial_grads: [-17.89763675  -1.14853497]\n",
      "loss:  6.083050253091545\n",
      "theta: [0.4314715  0.00755969]\n",
      "avg minibatch_partial_grads: [-12.01526248  -1.05982681]\n",
      "loss:  6.081048866903434\n",
      "theta: [0.43267303 0.00766567]\n",
      "avg minibatch_partial_grads: [-8.0648049  -1.00024528]\n",
      "loss:  6.080139030305882\n",
      "theta: [0.43347951 0.00776569]\n",
      "avg minibatch_partial_grads: [-5.411775   -0.96022447]\n",
      "loss:  6.079721668174601\n",
      "theta: [0.43402069 0.00786172]\n",
      "avg minibatch_partial_grads: [-3.63006557 -0.93334016]\n",
      "loss:  6.07952645397289\n",
      "theta: [0.4343837  0.00795505]\n",
      "avg minibatch_partial_grads: [-2.4335135 -0.915278 ]\n",
      "loss:  6.079431439050688\n",
      "theta: [0.43462705 0.00804658]\n",
      "avg minibatch_partial_grads: [-1.62993872 -0.90314058]\n",
      "loss:  6.079381617215839\n",
      "theta: [0.43479004 0.00813689]\n",
      "avg minibatch_partial_grads: [-1.09027779 -0.89498207]\n"
     ]
    }
   ],
   "source": [
    "linear_regression.train(x, y, epochs=20, learning_rate=0.0001)"
   ]
  },
  {
   "cell_type": "code",
   "execution_count": 184,
   "metadata": {},
   "outputs": [
    {
     "name": "stdout",
     "output_type": "stream",
     "text": [
      "[array([-1429.12615159,   -22.42522596]), array([3264.51961584,   48.33894377]), array([-7456.92332049,  -113.30311616]), array([17033.49290659,   255.92789132]), array([-38908.64948282,   -587.48593545]), array([88876.98164783,  1339.07969989]), array([-203016.87203796,   -3061.66997138]), array([463740.57996226,   6990.72686447]), array([-1059297.65532361,   -15971.42257053])]\n"
     ]
    },
    {
     "data": {
      "image/png": "[encoded data removed]",
      "text/plain": [
       "<Figure size 432x288 with 3 Axes>"
      ]
     },
     "metadata": {},
     "output_type": "display_data"
    }
   ],
   "source": [
    "print((linear_regression.avg_minibatch_partial_grads))\n",
    "\n",
    "fig = plt.figure()\n",
    "\n",
    "plt.subplot(2, 2, 1)\n",
    "plt.plot(linear_regression.loss)\n",
    "\n",
    "plt.subplot(2, 2, 2)\n",
    "plt.plot(np.array(linear_regression.avg_minibatch_partial_grads))\n",
    "\n",
    "plt.subplot(2, 2, 3)\n",
    "plt.plot(np.array(linear_regression.theta).transpose())\n",
    "\n",
    "plt.show()\n"
   ]
  },
  {
   "cell_type": "code",
   "execution_count": 173,
   "metadata": {},
   "outputs": [],
   "source": [
    "y_predicted = linear_regression.predict(x)"
   ]
  },
  {
   "cell_type": "code",
   "execution_count": 174,
   "metadata": {},
   "outputs": [
    {
     "data": {
      "image/png": "[encoded data removed]",
      "text/plain": [
       "<Figure size 432x288 with 1 Axes>"
      ]
     },
     "metadata": {},
     "output_type": "display_data"
    }
   ],
   "source": [
    "import matplotlib.pyplot as plt\n",
    "% matplotlib inline\n",
    "\n",
    "plt.scatter(x, y)\n",
    "plt.plot(x, y_predicted, color='red')\n",
    "plt.show()"
   ]
  },
  {
   "cell_type": "code",
   "execution_count": null,
   "metadata": {},
   "outputs": [],
   "source": []
  },
  {
   "cell_type": "code",
   "execution_count": null,
   "metadata": {},
   "outputs": [],
   "source": []
  }
 ],
 "metadata": {
  "kernelspec": {
   "display_name": "Python 3",
   "language": "python",
   "name": "python3"
  },
  "language_info": {
   "codemirror_mode": {
    "name": "ipython",
    "version": 3
   },
   "file_extension": ".py",
   "mimetype": "text/x-python",
   "name": "python",
   "nbconvert_exporter": "python",
   "pygments_lexer": "ipython3",
   "version": "3.6.5"
  }
 },
 "nbformat": 4,
 "nbformat_minor": 2
}
